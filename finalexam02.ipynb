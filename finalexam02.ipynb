{
  "nbformat": 4,
  "nbformat_minor": 0,
  "metadata": {
    "colab": {
      "name": "finalexam02.ipynb",
      "provenance": [],
      "authorship_tag": "ABX9TyPdzaO4mtBfKy+xs0Qj0WVU",
      "include_colab_link": true
    },
    "kernelspec": {
      "name": "python3",
      "display_name": "Python 3"
    }
  },
  "cells": [
    {
      "cell_type": "markdown",
      "metadata": {
        "id": "view-in-github",
        "colab_type": "text"
      },
      "source": [
        "<a href=\"https://colab.research.google.com/github/edison1000/opensrcsw_finalexam/blob/master/finalexam02.ipynb\" target=\"_parent\"><img src=\"https://colab.research.google.com/assets/colab-badge.svg\" alt=\"Open In Colab\"/></a>"
      ]
    },
    {
      "cell_type": "code",
      "metadata": {
        "id": "gyGxzbTCzxpm",
        "colab_type": "code",
        "colab": {
          "base_uri": "https://localhost:8080/",
          "height": 127
        },
        "outputId": "12bbcd4d-8798-466c-a314-e272a4319545"
      },
      "source": [
        "from google.colab import drive\n",
        "drive.mount(\"/gdrive\", force_remount=True)\n"
      ],
      "execution_count": 2,
      "outputs": [
        {
          "output_type": "stream",
          "text": [
            "Go to this URL in a browser: https://accounts.google.com/o/oauth2/auth?client_id=947318989803-6bn6qk8qdgf4n4g3pfee6491hc0brc4i.apps.googleusercontent.com&redirect_uri=urn%3aietf%3awg%3aoauth%3a2.0%3aoob&response_type=code&scope=email%20https%3a%2f%2fwww.googleapis.com%2fauth%2fdocs.test%20https%3a%2f%2fwww.googleapis.com%2fauth%2fdrive%20https%3a%2f%2fwww.googleapis.com%2fauth%2fdrive.photos.readonly%20https%3a%2f%2fwww.googleapis.com%2fauth%2fpeopleapi.readonly\n",
            "\n",
            "Enter your authorization code:\n",
            "··········\n",
            "Mounted at /gdrive\n"
          ],
          "name": "stdout"
        }
      ]
    },
    {
      "cell_type": "code",
      "metadata": {
        "id": "cX2qDdnO1SSp",
        "colab_type": "code",
        "colab": {}
      },
      "source": [
        "import math\n",
        "\n",
        "class Point:\n",
        "\n",
        "    x=0.0\n",
        "    y=0.0\n",
        "    \n",
        "    def __init__(self,x,y):\n",
        "        self.x=x\n",
        "        self.y=y\n",
        "    \n",
        "    def distance(self,other):\n",
        "        dx=other.x-self.x\n",
        "        dy=other.y-self.y\n",
        "        d=math.sqrt((dx*dx)+(dy*dy))\n",
        "        print(\"distance: %f\"%d)\n",
        "    \n",
        "    def __add__(self,other):\n",
        "      dx=self.x+other.x\n",
        "      dy=self.y+other.y\n",
        "      print(\"Point add x: \",dx,\"y: \",dy)"
      ],
      "execution_count": 29,
      "outputs": []
    },
    {
      "cell_type": "code",
      "metadata": {
        "id": "RgUqaMG62D26",
        "colab_type": "code",
        "colab": {
          "base_uri": "https://localhost:8080/",
          "height": 53
        },
        "outputId": "6c9b5bc0-aeac-436d-c699-c950b396589c"
      },
      "source": [
        "\n",
        "p1=Point(x=1,y=1)\n",
        "p2=Point(x=2,y=2)\n",
        "p1.distance(p2)\n",
        "p1+p2"
      ],
      "execution_count": 30,
      "outputs": [
        {
          "output_type": "stream",
          "text": [
            "distance: 1.414214\n",
            "Point add x:  3 y:  3\n"
          ],
          "name": "stdout"
        }
      ]
    }
  ]
}